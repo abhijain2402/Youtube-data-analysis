{
 "cells": [
  {
   "cell_type": "code",
   "execution_count": 212,
   "id": "279e4d2f-487d-446b-89a1-500885215152",
   "metadata": {},
   "outputs": [],
   "source": [
    "import numpy as np\n",
    "import pandas as pd"
   ]
  },
  {
   "cell_type": "markdown",
   "id": "d151878c",
   "metadata": {},
   "source": [
    "# Operation in NumPy"
   ]
  },
  {
   "cell_type": "code",
   "execution_count": 213,
   "id": "6229f354-5aa6-4aa1-bb68-9dff2a4eecd5",
   "metadata": {},
   "outputs": [
    {
     "name": "stdout",
     "output_type": "stream",
     "text": [
      "[1 2 3 4 5 6 7 8]\n"
     ]
    }
   ],
   "source": [
    "#making a array\n",
    "i = np.array([1,2,3,4,5,6,7,8])\n",
    "print(i)"
   ]
  },
  {
   "cell_type": "code",
   "execution_count": 214,
   "id": "f3cd04eb-cb80-4395-8ea2-d20dfd4925ee",
   "metadata": {},
   "outputs": [
    {
     "name": "stdout",
     "output_type": "stream",
     "text": [
      "(8,)\n"
     ]
    }
   ],
   "source": [
    "#print the shape of the array,how many row and column in the array\n",
    "print(i.shape)"
   ]
  },
  {
   "cell_type": "code",
   "execution_count": 215,
   "id": "d769b1d8-b17b-4699-889d-186764c4569f",
   "metadata": {},
   "outputs": [
    {
     "name": "stdout",
     "output_type": "stream",
     "text": [
      "[[[1 2]\n",
      "  [3 4]]\n",
      "\n",
      " [[5 6]\n",
      "  [7 8]]]\n"
     ]
    }
   ],
   "source": [
    "#change the shape and dimension and shape of the array\n",
    "print(i.reshape(2,2,2))"
   ]
  },
  {
   "cell_type": "code",
   "execution_count": 216,
   "id": "e3189b7b-255a-428e-9dc2-288c9d5322c1",
   "metadata": {},
   "outputs": [
    {
     "name": "stdout",
     "output_type": "stream",
     "text": [
      "['aman' 'atul' 'anju']\n",
      "['abhinav' 'anju' 'atul' 'aman']\n"
     ]
    }
   ],
   "source": [
    "x= np.array(['aman','atul','anju','abhinav'])\n",
    "y= [True,True,True,False]\n",
    "z= x[y]\n",
    "print(z)\n",
    "print(x[::-1])"
   ]
  },
  {
   "cell_type": "code",
   "execution_count": 217,
   "id": "c8a51de8-1306-4f81-95d7-2ba8222a7eb5",
   "metadata": {},
   "outputs": [
    {
     "name": "stdout",
     "output_type": "stream",
     "text": [
      "8\n",
      "-2\n",
      "15\n",
      "0.6\n",
      "3\n",
      "0\n",
      "243\n"
     ]
    }
   ],
   "source": [
    "print(i[2]+i[4])    #addition\n",
    "print(i[2]-i[4])    #subtraction\n",
    "print(i[2]*i[4])    #multiplication\n",
    "print(i[2]/i[4])    #division\n",
    "print(i[2]%i[4])    #modulus\n",
    "print(i[2]//i[4])   #floor division\n",
    "print(i[2]**i[4])   #exponentiation"
   ]
  },
  {
   "cell_type": "code",
   "execution_count": 218,
   "id": "ccfbd36f-3954-46ab-b4f5-ee31e0713d43",
   "metadata": {},
   "outputs": [
    {
     "name": "stdout",
     "output_type": "stream",
     "text": [
      "3\n"
     ]
    }
   ],
   "source": [
    "print(i[2])"
   ]
  },
  {
   "cell_type": "code",
   "execution_count": 219,
   "id": "93cc5e9e-3b78-4fa2-bf03-25aef133392d",
   "metadata": {},
   "outputs": [
    {
     "name": "stdout",
     "output_type": "stream",
     "text": [
      "[1. 2. 3. 4. 5. 6. 7. 8.]\n"
     ]
    }
   ],
   "source": [
    "np.savetxt('library1.csv',i)#save a file in csv form\n",
    "arr12=np.loadtxt('library1.csv')#load a file back from csv form\n",
    "print(arr12)"
   ]
  },
  {
   "cell_type": "code",
   "execution_count": 220,
   "id": "f9465452-f1ad-4dc5-ba49-38d8a392dc18",
   "metadata": {},
   "outputs": [
    {
     "name": "stdout",
     "output_type": "stream",
     "text": [
      "[1 2 3 4 5 6 7 8]\n"
     ]
    }
   ],
   "source": [
    "np.save('library1.npy',i)#save a file in binary form\n",
    "arr12=np.load('library1.npy') #load a file back from binary form\n",
    "print(arr12)"
   ]
  },
  {
   "cell_type": "code",
   "execution_count": 221,
   "id": "b3281003-325e-4dc8-91c1-150806de57f1",
   "metadata": {},
   "outputs": [
    {
     "name": "stdout",
     "output_type": "stream",
     "text": [
      "36\n"
     ]
    }
   ],
   "source": [
    "print(np.sum(i))"
   ]
  },
  {
   "cell_type": "code",
   "execution_count": 222,
   "id": "676935ae-578a-45fb-a083-6e6b16925769",
   "metadata": {},
   "outputs": [
    {
     "name": "stdout",
     "output_type": "stream",
     "text": [
      "4.5\n"
     ]
    }
   ],
   "source": [
    "print(np.mean(i))"
   ]
  },
  {
   "cell_type": "code",
   "execution_count": 223,
   "id": "e08e37ab-b444-4cb1-b27f-5ac6f07559ff",
   "metadata": {},
   "outputs": [
    {
     "name": "stdout",
     "output_type": "stream",
     "text": [
      "4.5\n"
     ]
    }
   ],
   "source": [
    "print(np.median(i))"
   ]
  },
  {
   "cell_type": "code",
   "execution_count": 224,
   "id": "5631c613-9297-46e0-aa2b-9838c9c244f2",
   "metadata": {},
   "outputs": [
    {
     "name": "stdout",
     "output_type": "stream",
     "text": [
      "[[[ 1  2]\n",
      "  [ 3  4]]\n",
      "\n",
      " [[ 5  6]\n",
      "  [ 7  8]]\n",
      "\n",
      " [[ 9 10]\n",
      "  [11 12]]\n",
      "\n",
      " [[13 14]\n",
      "  [15 16]]]\n"
     ]
    }
   ],
   "source": [
    "s=np.array([1,2,3,4,5,6,7,8,9,10,11,12,13,14,15,16])\n",
    "t = s.reshape(4,2,2)\n",
    "print(t)"
   ]
  },
  {
   "cell_type": "code",
   "execution_count": 225,
   "id": "628edab3-16a8-43fd-a5b6-dd3a2aea3e28",
   "metadata": {},
   "outputs": [
    {
     "name": "stdout",
     "output_type": "stream",
     "text": [
      "1\n",
      "int32\n",
      "<class 'numpy.ndarray'>\n"
     ]
    }
   ],
   "source": [
    "#ndim function is use for finding the dimension of the function\n",
    "#dtype function is used for findinf data type of the function\n",
    "print(i.ndim)\n",
    "print(i.dtype)\n",
    "print(type(i))"
   ]
  },
  {
   "cell_type": "code",
   "execution_count": 226,
   "id": "76d045d4-8595-43e6-bf50-3c24cbf7f9bf",
   "metadata": {},
   "outputs": [
    {
     "name": "stdout",
     "output_type": "stream",
     "text": [
      "[ 1  2 16  4  5  6  7  8]\n"
     ]
    }
   ],
   "source": [
    "#copy function is used for getting copy of the array and if we do any changes in the copy it do not effect orignal one\n",
    "j=i.copy()\n",
    "j[2]=16\n",
    "print(j)\n"
   ]
  },
  {
   "cell_type": "code",
   "execution_count": 227,
   "id": "78b53ce6-505c-418f-87d0-3d8eb1e2dbf2",
   "metadata": {},
   "outputs": [
    {
     "name": "stdout",
     "output_type": "stream",
     "text": [
      "[1 2 3 4 5 6 7 8]\n"
     ]
    }
   ],
   "source": [
    "print(i)"
   ]
  },
  {
   "cell_type": "code",
   "execution_count": 228,
   "id": "7baf81e0-dd03-4b54-8314-6271f521316b",
   "metadata": {},
   "outputs": [
    {
     "name": "stdout",
     "output_type": "stream",
     "text": [
      "[1 2 3 4 5 6 7 8]\n"
     ]
    }
   ],
   "source": [
    "#is help to sort the array\n",
    "print(np.sort(i))"
   ]
  },
  {
   "cell_type": "code",
   "execution_count": 229,
   "id": "9710e23d-9071-459e-a4c4-c41701641364",
   "metadata": {},
   "outputs": [
    {
     "name": "stdout",
     "output_type": "stream",
     "text": [
      "['abhinav' 'aman' 'anju' 'atul']\n"
     ]
    }
   ],
   "source": [
    "print(np.sort(x))"
   ]
  },
  {
   "cell_type": "code",
   "execution_count": 230,
   "id": "336f7fd4-f686-49ba-bd0b-4f6296b2fbff",
   "metadata": {},
   "outputs": [
    {
     "name": "stdout",
     "output_type": "stream",
     "text": [
      "None\n",
      "[8 5 2 1 3 6 4 7]\n"
     ]
    }
   ],
   "source": [
    "from numpy import random\n",
    "#suffle use to suffle the the element in orignal array\n",
    "#permutation is also used to suffle the element but permutation makes the copy of the array and shuffle it\n",
    "print(np.random.shuffle(i))\n",
    "print(np.random.permutation(i))\n"
   ]
  },
  {
   "cell_type": "code",
   "execution_count": 231,
   "id": "b6ea7bf0-6a84-4479-8149-7950e1d19168",
   "metadata": {},
   "outputs": [
    {
     "name": "stdout",
     "output_type": "stream",
     "text": [
      "2180\n",
      "200\n",
      "[-2. -2. -2. -2.]\n",
      "[[[-2.   1. ]\n",
      "  [ 1.5 -0.5]]\n",
      "\n",
      " [[-4.   3. ]\n",
      "  [ 3.5 -2.5]]\n",
      "\n",
      " [[-6.   5. ]\n",
      "  [ 5.5 -4.5]]\n",
      "\n",
      " [[-8.   7. ]\n",
      "  [ 7.5 -6.5]]]\n",
      "[2 2 2 2]\n"
     ]
    }
   ],
   "source": [
    "from numpy import linalg\n",
    "r = np.array([3,42,445,2,5,7,46,2])\n",
    "print(np.dot(i,r))#.dot is used to find the dot product between the array\n",
    "print(np.matmul(i,j))#matmull is also used for multiplication between matrix but it is not flexible like .dot becaude it follow mathematical rule.\n",
    "print(np.linalg.det(t))#.det is used to find the determinant of the matrix\n",
    "print(np.linalg.inv(t))#.inv is used to find the inverse of the matrix\n",
    "print(np.linalg.matrix_rank(t))#.matrix_rank is used to find the rank of the matrix"
   ]
  },
  {
   "cell_type": "code",
   "execution_count": 232,
   "id": "f8c0c1b7-e3e6-4253-8932-7c4bd4c0eb6d",
   "metadata": {},
   "outputs": [
    {
     "name": "stdout",
     "output_type": "stream",
     "text": [
      "[[4.17022005e-01 7.20324493e-01 1.14374817e-04]\n",
      " [3.02332573e-01 1.46755891e-01 9.23385948e-02]\n",
      " [1.86260211e-01 3.45560727e-01 3.96767474e-01]]\n",
      "[[3 5 6]\n",
      " [3 5 3]\n",
      " [5 8 8]]\n",
      "['t' 't' '5' '4' 'a']\n",
      "[['4' '2' 't']\n",
      " ['t' '5' '5']\n",
      " ['2' '4' 't']]\n"
     ]
    }
   ],
   "source": [
    "np.random.seed(1)#is used to not change the array which is given to random function\n",
    "print(np.random.rand(3,3))#is used to give the number in the whole number scale\n",
    "print(np.random.randint(1,10,(3,3)))#is used to give umber in a prper range\n",
    "print(np.random.choice(['a','t','r','t','s',2,4,5],5))#is used to choose randomely elemnt is array ehich is given\n",
    "print(np.random.choice(['a','t','r','t','s',2,4,5],size =(3,3)))#is used to make a matrix from the given array in randomely choose the element"
   ]
  },
  {
   "cell_type": "markdown",
   "id": "ce6ba87b",
   "metadata": {},
   "source": [
    "# operation in pandas"
   ]
  },
  {
   "cell_type": "code",
   "execution_count": 233,
   "id": "cbae635b-982a-4659-9fd4-f465b6ae2c66",
   "metadata": {},
   "outputs": [
    {
     "name": "stdout",
     "output_type": "stream",
     "text": [
      "     name  age      city\n",
      "0  farman   18     patna\n",
      "1  furkan   19  bilaspur\n",
      "2   afsar   20    raipur\n",
      "3  irshad   21     delhi\n"
     ]
    }
   ],
   "source": [
    "data= {\"name\" :['farman','furkan','afsar','irshad'],\n",
    "       \"age\" : [18,19,20,21],\n",
    "       \"city\" : ['patna','bilaspur','raipur','delhi']}\n",
    "g=pd.DataFrame(data)\n",
    "print(g)\n"
   ]
  },
  {
   "cell_type": "code",
   "execution_count": 234,
   "id": "ff561f71-6e75-49b6-a8a6-7ed3448312c6",
   "metadata": {},
   "outputs": [
    {
     "name": "stdout",
     "output_type": "stream",
     "text": [
      "     name  age      city\n",
      "0  farman   18     patna\n",
      "1  furkan   19  bilaspur\n"
     ]
    }
   ],
   "source": [
    "#print first two row of the data set\n",
    "print(g.head(2))"
   ]
  },
  {
   "cell_type": "code",
   "execution_count": 235,
   "id": "514f8433-d6e1-42f8-80d6-0535ac7a598d",
   "metadata": {},
   "outputs": [
    {
     "name": "stdout",
     "output_type": "stream",
     "text": [
      "     name  age    city\n",
      "2   afsar   20  raipur\n",
      "3  irshad   21   delhi\n"
     ]
    }
   ],
   "source": [
    "#print last two row of data set\n",
    "print(g.tail(2))"
   ]
  },
  {
   "cell_type": "code",
   "execution_count": 236,
   "id": "4cd3c3c9-627f-43aa-ac5a-690e8f3268f2",
   "metadata": {},
   "outputs": [
    {
     "name": "stdout",
     "output_type": "stream",
     "text": [
      "<class 'pandas.core.frame.DataFrame'>\n",
      "RangeIndex: 4 entries, 0 to 3\n",
      "Data columns (total 3 columns):\n",
      " #   Column  Non-Null Count  Dtype \n",
      "---  ------  --------------  ----- \n",
      " 0   name    4 non-null      object\n",
      " 1   age     4 non-null      int64 \n",
      " 2   city    4 non-null      object\n",
      "dtypes: int64(1), object(2)\n",
      "memory usage: 228.0+ bytes\n",
      "None\n"
     ]
    }
   ],
   "source": [
    "#give the general information about the dataset\n",
    "print(g.info())"
   ]
  },
  {
   "cell_type": "code",
   "execution_count": 237,
   "id": "cd0e05a2-5edb-4493-9dfc-aafd0b8ec94a",
   "metadata": {},
   "outputs": [
    {
     "name": "stdout",
     "output_type": "stream",
     "text": [
      "             age\n",
      "count   4.000000\n",
      "mean   19.500000\n",
      "std     1.290994\n",
      "min    18.000000\n",
      "25%    18.750000\n",
      "50%    19.500000\n",
      "75%    20.250000\n",
      "max    21.000000\n"
     ]
    }
   ],
   "source": [
    "#give the answer of statical operation perform in the dataset\n",
    "print(g.describe())"
   ]
  },
  {
   "cell_type": "code",
   "execution_count": 238,
   "id": "96b39ab7-56e3-4320-a154-256efdf76eae",
   "metadata": {},
   "outputs": [
    {
     "name": "stdout",
     "output_type": "stream",
     "text": [
      "     name  age      city\n",
      "a  farman   18     patna\n",
      "b  furkan   19  bilaspur\n",
      "c   afsar   20    raipur\n",
      "d  irshad   21     delhi\n"
     ]
    }
   ],
   "source": [
    "#give the indexing in the dataset\n",
    "g=pd.DataFrame(data , index = ['a','b','c','d'])\n",
    "print(g)"
   ]
  },
  {
   "cell_type": "code",
   "execution_count": 239,
   "id": "fadce239-41cd-46fe-ae45-2c199319116d",
   "metadata": {},
   "outputs": [
    {
     "name": "stdout",
     "output_type": "stream",
     "text": [
      "name    irshad\n",
      "age         21\n",
      "city     delhi\n",
      "Name: d, dtype: object\n"
     ]
    }
   ],
   "source": [
    "#give the values of specific row in the dataset\n",
    "print(g.loc['d'])"
   ]
  },
  {
   "cell_type": "code",
   "execution_count": 240,
   "id": "12f94888-520c-432b-8d1a-4dbd811dd8c4",
   "metadata": {},
   "outputs": [
    {
     "name": "stdout",
     "output_type": "stream",
     "text": [
      "20\n"
     ]
    }
   ],
   "source": [
    "#give the value of specific column in specific data set\n",
    "print(g.iloc[2,1])"
   ]
  },
  {
   "cell_type": "code",
   "execution_count": 241,
   "id": "fe8db1a4-836b-4f21-80a7-4dc80677924b",
   "metadata": {},
   "outputs": [
    {
     "name": "stdout",
     "output_type": "stream",
     "text": [
      "a     True\n",
      "b    False\n",
      "c    False\n",
      "d    False\n",
      "Name: age, dtype: bool\n"
     ]
    }
   ],
   "source": [
    "#sort the value with respect to given condition in bolean form\n",
    "print(g['age']<19)"
   ]
  },
  {
   "cell_type": "code",
   "execution_count": 242,
   "id": "35f399f2-054f-4c78-82ef-aca1e11410ae",
   "metadata": {},
   "outputs": [
    {
     "name": "stdout",
     "output_type": "stream",
     "text": [
      "     name  age   city\n",
      "a  farman   18  patna\n"
     ]
    }
   ],
   "source": [
    "#sort the value with respect to given condition\n",
    "print(g[g['age']<19])"
   ]
  },
  {
   "cell_type": "code",
   "execution_count": 243,
   "id": "670f736b-92c4-4e9c-b893-605da7b6475f",
   "metadata": {},
   "outputs": [],
   "source": [
    "#save the file in csv format\n",
    "g.to_csv('output.csv', index=False)"
   ]
  },
  {
   "cell_type": "code",
   "execution_count": 250,
   "id": "7a95b792-6c26-42cf-a05e-d2f9379dad85",
   "metadata": {},
   "outputs": [],
   "source": [
    "#save the file in excel format\n",
    "g.to_excel('output.xlsx', index=False)"
   ]
  },
  {
   "cell_type": "code",
   "execution_count": 245,
   "id": "653d2f30-b1d7-4ca6-b247-63d8fcc2f8f3",
   "metadata": {},
   "outputs": [
    {
     "data": {
      "text/plain": [
       "name    0\n",
       "age     0\n",
       "city    0\n",
       "dtype: int64"
      ]
     },
     "execution_count": 245,
     "metadata": {},
     "output_type": "execute_result"
    }
   ],
   "source": [
    "#find if there any null value in the dataset\n",
    "g.isnull().sum()"
   ]
  },
  {
   "cell_type": "code",
   "execution_count": 246,
   "id": "4b0ef7c4-4474-45df-a980-b2b2450fbbf0",
   "metadata": {},
   "outputs": [
    {
     "data": {
      "text/html": [
       "<div>\n",
       "<style scoped>\n",
       "    .dataframe tbody tr th:only-of-type {\n",
       "        vertical-align: middle;\n",
       "    }\n",
       "\n",
       "    .dataframe tbody tr th {\n",
       "        vertical-align: top;\n",
       "    }\n",
       "\n",
       "    .dataframe thead th {\n",
       "        text-align: right;\n",
       "    }\n",
       "</style>\n",
       "<table border=\"1\" class=\"dataframe\">\n",
       "  <thead>\n",
       "    <tr style=\"text-align: right;\">\n",
       "      <th></th>\n",
       "      <th>name</th>\n",
       "      <th>age</th>\n",
       "      <th>city</th>\n",
       "    </tr>\n",
       "  </thead>\n",
       "  <tbody>\n",
       "    <tr>\n",
       "      <th>a</th>\n",
       "      <td>farman</td>\n",
       "      <td>18</td>\n",
       "      <td>patna</td>\n",
       "    </tr>\n",
       "    <tr>\n",
       "      <th>b</th>\n",
       "      <td>furkan</td>\n",
       "      <td>19</td>\n",
       "      <td>bilaspur</td>\n",
       "    </tr>\n",
       "    <tr>\n",
       "      <th>c</th>\n",
       "      <td>afsar</td>\n",
       "      <td>20</td>\n",
       "      <td>raipur</td>\n",
       "    </tr>\n",
       "    <tr>\n",
       "      <th>d</th>\n",
       "      <td>irshad</td>\n",
       "      <td>21</td>\n",
       "      <td>delhi</td>\n",
       "    </tr>\n",
       "  </tbody>\n",
       "</table>\n",
       "</div>"
      ],
      "text/plain": [
       "     name  age      city\n",
       "a  farman   18     patna\n",
       "b  furkan   19  bilaspur\n",
       "c   afsar   20    raipur\n",
       "d  irshad   21     delhi"
      ]
     },
     "execution_count": 246,
     "metadata": {},
     "output_type": "execute_result"
    }
   ],
   "source": [
    "#fill the temparory value in the space of null value\n",
    "g.fillna(0)"
   ]
  },
  {
   "cell_type": "code",
   "execution_count": 247,
   "id": "1cf525a8-b8b5-4421-bda1-a2f848a15fa6",
   "metadata": {},
   "outputs": [
    {
     "data": {
      "text/html": [
       "<div>\n",
       "<style scoped>\n",
       "    .dataframe tbody tr th:only-of-type {\n",
       "        vertical-align: middle;\n",
       "    }\n",
       "\n",
       "    .dataframe tbody tr th {\n",
       "        vertical-align: top;\n",
       "    }\n",
       "\n",
       "    .dataframe thead th {\n",
       "        text-align: right;\n",
       "    }\n",
       "</style>\n",
       "<table border=\"1\" class=\"dataframe\">\n",
       "  <thead>\n",
       "    <tr style=\"text-align: right;\">\n",
       "      <th></th>\n",
       "      <th>name</th>\n",
       "      <th>age</th>\n",
       "      <th>city</th>\n",
       "    </tr>\n",
       "  </thead>\n",
       "  <tbody>\n",
       "    <tr>\n",
       "      <th>a</th>\n",
       "      <td>farman</td>\n",
       "      <td>18</td>\n",
       "      <td>patna</td>\n",
       "    </tr>\n",
       "    <tr>\n",
       "      <th>b</th>\n",
       "      <td>furkan</td>\n",
       "      <td>19</td>\n",
       "      <td>bilaspur</td>\n",
       "    </tr>\n",
       "    <tr>\n",
       "      <th>c</th>\n",
       "      <td>afsar</td>\n",
       "      <td>20</td>\n",
       "      <td>raipur</td>\n",
       "    </tr>\n",
       "    <tr>\n",
       "      <th>d</th>\n",
       "      <td>irshad</td>\n",
       "      <td>21</td>\n",
       "      <td>delhi</td>\n",
       "    </tr>\n",
       "  </tbody>\n",
       "</table>\n",
       "</div>"
      ],
      "text/plain": [
       "     name  age      city\n",
       "a  farman   18     patna\n",
       "b  furkan   19  bilaspur\n",
       "c   afsar   20    raipur\n",
       "d  irshad   21     delhi"
      ]
     },
     "execution_count": 247,
     "metadata": {},
     "output_type": "execute_result"
    }
   ],
   "source": [
    "#drop the null value from the dataset\n",
    "g.dropna()"
   ]
  },
  {
   "cell_type": "code",
   "execution_count": 248,
   "id": "df682a28-7c51-4e5b-beaa-c9496b54ff7f",
   "metadata": {},
   "outputs": [
    {
     "data": {
      "text/plain": [
       "0"
      ]
     },
     "execution_count": 248,
     "metadata": {},
     "output_type": "execute_result"
    }
   ],
   "source": [
    "#find the duplicated vaue in the dataset\n",
    "g.duplicated().sum()"
   ]
  },
  {
   "cell_type": "code",
   "execution_count": 249,
   "id": "ff50d34a-a16d-426e-a9d6-d35a42d66b75",
   "metadata": {},
   "outputs": [
    {
     "data": {
      "text/html": [
       "<div>\n",
       "<style scoped>\n",
       "    .dataframe tbody tr th:only-of-type {\n",
       "        vertical-align: middle;\n",
       "    }\n",
       "\n",
       "    .dataframe tbody tr th {\n",
       "        vertical-align: top;\n",
       "    }\n",
       "\n",
       "    .dataframe thead th {\n",
       "        text-align: right;\n",
       "    }\n",
       "</style>\n",
       "<table border=\"1\" class=\"dataframe\">\n",
       "  <thead>\n",
       "    <tr style=\"text-align: right;\">\n",
       "      <th></th>\n",
       "      <th>name</th>\n",
       "      <th>age</th>\n",
       "      <th>city</th>\n",
       "    </tr>\n",
       "  </thead>\n",
       "  <tbody>\n",
       "    <tr>\n",
       "      <th>a</th>\n",
       "      <td>farman</td>\n",
       "      <td>18</td>\n",
       "      <td>patna</td>\n",
       "    </tr>\n",
       "    <tr>\n",
       "      <th>b</th>\n",
       "      <td>furkan</td>\n",
       "      <td>19</td>\n",
       "      <td>bilaspur</td>\n",
       "    </tr>\n",
       "    <tr>\n",
       "      <th>c</th>\n",
       "      <td>afsar</td>\n",
       "      <td>20</td>\n",
       "      <td>raipur</td>\n",
       "    </tr>\n",
       "    <tr>\n",
       "      <th>d</th>\n",
       "      <td>irshad</td>\n",
       "      <td>21</td>\n",
       "      <td>delhi</td>\n",
       "    </tr>\n",
       "  </tbody>\n",
       "</table>\n",
       "</div>"
      ],
      "text/plain": [
       "     name  age      city\n",
       "a  farman   18     patna\n",
       "b  furkan   19  bilaspur\n",
       "c   afsar   20    raipur\n",
       "d  irshad   21     delhi"
      ]
     },
     "execution_count": 249,
     "metadata": {},
     "output_type": "execute_result"
    }
   ],
   "source": [
    "#drop the duplicated value from the dataset\n",
    "g.drop_duplicates()"
   ]
  },
  {
   "cell_type": "code",
   "execution_count": null,
   "id": "a7d19848-6547-4d95-bc84-ed4ecc60e5fb",
   "metadata": {},
   "outputs": [],
   "source": []
  }
 ],
 "metadata": {
  "kernelspec": {
   "display_name": "base",
   "language": "python",
   "name": "python3"
  },
  "language_info": {
   "codemirror_mode": {
    "name": "ipython",
    "version": 3
   },
   "file_extension": ".py",
   "mimetype": "text/x-python",
   "name": "python",
   "nbconvert_exporter": "python",
   "pygments_lexer": "ipython3",
   "version": "3.12.7"
  }
 },
 "nbformat": 4,
 "nbformat_minor": 5
}
